{
  "nbformat": 4,
  "nbformat_minor": 0,
  "metadata": {
    "colab": {
      "provenance": [],
      "authorship_tag": "ABX9TyO2mDnj003g63g8Uv+T6Hmw",
      "include_colab_link": true
    },
    "kernelspec": {
      "name": "python3",
      "display_name": "Python 3"
    },
    "language_info": {
      "name": "python"
    }
  },
  "cells": [
    {
      "cell_type": "markdown",
      "metadata": {
        "id": "view-in-github",
        "colab_type": "text"
      },
      "source": [
        "<a href=\"https://colab.research.google.com/github/Rishika70/LLM/blob/main/Serp_API_Agent_Chatbot.ipynb\" target=\"_parent\"><img src=\"https://colab.research.google.com/assets/colab-badge.svg\" alt=\"Open In Colab\"/></a>"
      ]
    },
    {
      "cell_type": "code",
      "source": [
        "!pip install Langchain\n",
        "!pip install openai\n",
        "!pip install serpapi\n",
        "!pip install google-search-results"
      ],
      "metadata": {
        "colab": {
          "base_uri": "https://localhost:8080/"
        },
        "id": "CianQnQJUWHd",
        "outputId": "5a01dfa9-29b4-45e5-c348-cd052d9846b9"
      },
      "execution_count": null,
      "outputs": [
        {
          "output_type": "stream",
          "name": "stdout",
          "text": [
            "Requirement already satisfied: Langchain in /usr/local/lib/python3.10/dist-packages (0.1.11)\n",
            "Requirement already satisfied: PyYAML>=5.3 in /usr/local/lib/python3.10/dist-packages (from Langchain) (6.0.1)\n",
            "Requirement already satisfied: SQLAlchemy<3,>=1.4 in /usr/local/lib/python3.10/dist-packages (from Langchain) (2.0.27)\n",
            "Requirement already satisfied: aiohttp<4.0.0,>=3.8.3 in /usr/local/lib/python3.10/dist-packages (from Langchain) (3.9.3)\n",
            "Requirement already satisfied: async-timeout<5.0.0,>=4.0.0 in /usr/local/lib/python3.10/dist-packages (from Langchain) (4.0.3)\n",
            "Requirement already satisfied: dataclasses-json<0.7,>=0.5.7 in /usr/local/lib/python3.10/dist-packages (from Langchain) (0.6.4)\n",
            "Requirement already satisfied: jsonpatch<2.0,>=1.33 in /usr/local/lib/python3.10/dist-packages (from Langchain) (1.33)\n",
            "Requirement already satisfied: langchain-community<0.1,>=0.0.25 in /usr/local/lib/python3.10/dist-packages (from Langchain) (0.0.25)\n",
            "Requirement already satisfied: langchain-core<0.2,>=0.1.29 in /usr/local/lib/python3.10/dist-packages (from Langchain) (0.1.29)\n",
            "Requirement already satisfied: langchain-text-splitters<0.1,>=0.0.1 in /usr/local/lib/python3.10/dist-packages (from Langchain) (0.0.1)\n",
            "Requirement already satisfied: langsmith<0.2.0,>=0.1.17 in /usr/local/lib/python3.10/dist-packages (from Langchain) (0.1.22)\n",
            "Requirement already satisfied: numpy<2,>=1 in /usr/local/lib/python3.10/dist-packages (from Langchain) (1.25.2)\n",
            "Requirement already satisfied: pydantic<3,>=1 in /usr/local/lib/python3.10/dist-packages (from Langchain) (2.6.3)\n",
            "Requirement already satisfied: requests<3,>=2 in /usr/local/lib/python3.10/dist-packages (from Langchain) (2.31.0)\n",
            "Requirement already satisfied: tenacity<9.0.0,>=8.1.0 in /usr/local/lib/python3.10/dist-packages (from Langchain) (8.2.3)\n",
            "Requirement already satisfied: aiosignal>=1.1.2 in /usr/local/lib/python3.10/dist-packages (from aiohttp<4.0.0,>=3.8.3->Langchain) (1.3.1)\n",
            "Requirement already satisfied: attrs>=17.3.0 in /usr/local/lib/python3.10/dist-packages (from aiohttp<4.0.0,>=3.8.3->Langchain) (23.2.0)\n",
            "Requirement already satisfied: frozenlist>=1.1.1 in /usr/local/lib/python3.10/dist-packages (from aiohttp<4.0.0,>=3.8.3->Langchain) (1.4.1)\n",
            "Requirement already satisfied: multidict<7.0,>=4.5 in /usr/local/lib/python3.10/dist-packages (from aiohttp<4.0.0,>=3.8.3->Langchain) (6.0.5)\n",
            "Requirement already satisfied: yarl<2.0,>=1.0 in /usr/local/lib/python3.10/dist-packages (from aiohttp<4.0.0,>=3.8.3->Langchain) (1.9.4)\n",
            "Requirement already satisfied: marshmallow<4.0.0,>=3.18.0 in /usr/local/lib/python3.10/dist-packages (from dataclasses-json<0.7,>=0.5.7->Langchain) (3.21.1)\n",
            "Requirement already satisfied: typing-inspect<1,>=0.4.0 in /usr/local/lib/python3.10/dist-packages (from dataclasses-json<0.7,>=0.5.7->Langchain) (0.9.0)\n",
            "Requirement already satisfied: jsonpointer>=1.9 in /usr/local/lib/python3.10/dist-packages (from jsonpatch<2.0,>=1.33->Langchain) (2.4)\n",
            "Requirement already satisfied: anyio<5,>=3 in /usr/local/lib/python3.10/dist-packages (from langchain-core<0.2,>=0.1.29->Langchain) (3.7.1)\n",
            "Requirement already satisfied: packaging<24.0,>=23.2 in /usr/local/lib/python3.10/dist-packages (from langchain-core<0.2,>=0.1.29->Langchain) (23.2)\n",
            "Requirement already satisfied: orjson<4.0.0,>=3.9.14 in /usr/local/lib/python3.10/dist-packages (from langsmith<0.2.0,>=0.1.17->Langchain) (3.9.15)\n",
            "Requirement already satisfied: annotated-types>=0.4.0 in /usr/local/lib/python3.10/dist-packages (from pydantic<3,>=1->Langchain) (0.6.0)\n",
            "Requirement already satisfied: pydantic-core==2.16.3 in /usr/local/lib/python3.10/dist-packages (from pydantic<3,>=1->Langchain) (2.16.3)\n",
            "Requirement already satisfied: typing-extensions>=4.6.1 in /usr/local/lib/python3.10/dist-packages (from pydantic<3,>=1->Langchain) (4.10.0)\n",
            "Requirement already satisfied: charset-normalizer<4,>=2 in /usr/local/lib/python3.10/dist-packages (from requests<3,>=2->Langchain) (3.3.2)\n",
            "Requirement already satisfied: idna<4,>=2.5 in /usr/local/lib/python3.10/dist-packages (from requests<3,>=2->Langchain) (3.6)\n",
            "Requirement already satisfied: urllib3<3,>=1.21.1 in /usr/local/lib/python3.10/dist-packages (from requests<3,>=2->Langchain) (2.0.7)\n",
            "Requirement already satisfied: certifi>=2017.4.17 in /usr/local/lib/python3.10/dist-packages (from requests<3,>=2->Langchain) (2024.2.2)\n",
            "Requirement already satisfied: greenlet!=0.4.17 in /usr/local/lib/python3.10/dist-packages (from SQLAlchemy<3,>=1.4->Langchain) (3.0.3)\n",
            "Requirement already satisfied: sniffio>=1.1 in /usr/local/lib/python3.10/dist-packages (from anyio<5,>=3->langchain-core<0.2,>=0.1.29->Langchain) (1.3.1)\n",
            "Requirement already satisfied: exceptiongroup in /usr/local/lib/python3.10/dist-packages (from anyio<5,>=3->langchain-core<0.2,>=0.1.29->Langchain) (1.2.0)\n",
            "Requirement already satisfied: mypy-extensions>=0.3.0 in /usr/local/lib/python3.10/dist-packages (from typing-inspect<1,>=0.4.0->dataclasses-json<0.7,>=0.5.7->Langchain) (1.0.0)\n",
            "Requirement already satisfied: openai in /usr/local/lib/python3.10/dist-packages (1.13.3)\n",
            "Requirement already satisfied: anyio<5,>=3.5.0 in /usr/local/lib/python3.10/dist-packages (from openai) (3.7.1)\n",
            "Requirement already satisfied: distro<2,>=1.7.0 in /usr/lib/python3/dist-packages (from openai) (1.7.0)\n",
            "Requirement already satisfied: httpx<1,>=0.23.0 in /usr/local/lib/python3.10/dist-packages (from openai) (0.27.0)\n",
            "Requirement already satisfied: pydantic<3,>=1.9.0 in /usr/local/lib/python3.10/dist-packages (from openai) (2.6.3)\n",
            "Requirement already satisfied: sniffio in /usr/local/lib/python3.10/dist-packages (from openai) (1.3.1)\n",
            "Requirement already satisfied: tqdm>4 in /usr/local/lib/python3.10/dist-packages (from openai) (4.66.2)\n",
            "Requirement already satisfied: typing-extensions<5,>=4.7 in /usr/local/lib/python3.10/dist-packages (from openai) (4.10.0)\n",
            "Requirement already satisfied: idna>=2.8 in /usr/local/lib/python3.10/dist-packages (from anyio<5,>=3.5.0->openai) (3.6)\n",
            "Requirement already satisfied: exceptiongroup in /usr/local/lib/python3.10/dist-packages (from anyio<5,>=3.5.0->openai) (1.2.0)\n",
            "Requirement already satisfied: certifi in /usr/local/lib/python3.10/dist-packages (from httpx<1,>=0.23.0->openai) (2024.2.2)\n",
            "Requirement already satisfied: httpcore==1.* in /usr/local/lib/python3.10/dist-packages (from httpx<1,>=0.23.0->openai) (1.0.4)\n",
            "Requirement already satisfied: h11<0.15,>=0.13 in /usr/local/lib/python3.10/dist-packages (from httpcore==1.*->httpx<1,>=0.23.0->openai) (0.14.0)\n",
            "Requirement already satisfied: annotated-types>=0.4.0 in /usr/local/lib/python3.10/dist-packages (from pydantic<3,>=1.9.0->openai) (0.6.0)\n",
            "Requirement already satisfied: pydantic-core==2.16.3 in /usr/local/lib/python3.10/dist-packages (from pydantic<3,>=1.9.0->openai) (2.16.3)\n",
            "Requirement already satisfied: serpapi in /usr/local/lib/python3.10/dist-packages (0.1.5)\n",
            "Requirement already satisfied: requests in /usr/local/lib/python3.10/dist-packages (from serpapi) (2.31.0)\n",
            "Requirement already satisfied: charset-normalizer<4,>=2 in /usr/local/lib/python3.10/dist-packages (from requests->serpapi) (3.3.2)\n",
            "Requirement already satisfied: idna<4,>=2.5 in /usr/local/lib/python3.10/dist-packages (from requests->serpapi) (3.6)\n",
            "Requirement already satisfied: urllib3<3,>=1.21.1 in /usr/local/lib/python3.10/dist-packages (from requests->serpapi) (2.0.7)\n",
            "Requirement already satisfied: certifi>=2017.4.17 in /usr/local/lib/python3.10/dist-packages (from requests->serpapi) (2024.2.2)\n",
            "Requirement already satisfied: google-search-results in /usr/local/lib/python3.10/dist-packages (2.4.2)\n",
            "Requirement already satisfied: requests in /usr/local/lib/python3.10/dist-packages (from google-search-results) (2.31.0)\n",
            "Requirement already satisfied: charset-normalizer<4,>=2 in /usr/local/lib/python3.10/dist-packages (from requests->google-search-results) (3.3.2)\n",
            "Requirement already satisfied: idna<4,>=2.5 in /usr/local/lib/python3.10/dist-packages (from requests->google-search-results) (3.6)\n",
            "Requirement already satisfied: urllib3<3,>=1.21.1 in /usr/local/lib/python3.10/dist-packages (from requests->google-search-results) (2.0.7)\n",
            "Requirement already satisfied: certifi>=2017.4.17 in /usr/local/lib/python3.10/dist-packages (from requests->google-search-results) (2024.2.2)\n"
          ]
        }
      ]
    },
    {
      "cell_type": "code",
      "source": [
        "from langchain.agents import load_tools\n",
        "from langchain.agents import initialize_agent\n",
        "from langchain.llms import OpenAI"
      ],
      "metadata": {
        "id": "TrcdnXIb66E2"
      },
      "execution_count": null,
      "outputs": []
    },
    {
      "cell_type": "code",
      "source": [
        "from langchain.agents import load_tools\n",
        "\n",
        "import os\n",
        "\n",
        "os.environ['OPENAI_API_KEY'] = \"Your-Open-API-Key\""
      ],
      "metadata": {
        "id": "csEDe3i7UVGp"
      },
      "execution_count": null,
      "outputs": []
    },
    {
      "cell_type": "code",
      "source": [
        "llm = OpenAI(temperature=0)"
      ],
      "metadata": {
        "id": "UFypN7qbUwqz"
      },
      "execution_count": null,
      "outputs": []
    },
    {
      "cell_type": "code",
      "source": [
        "import os\n",
        "os.environ['SERPAPI_API_KEY'] = 'Your-Serp-API-Key'"
      ],
      "metadata": {
        "id": "94ZhvzqrVRdO"
      },
      "execution_count": null,
      "outputs": []
    },
    {
      "cell_type": "code",
      "source": [
        "tool_names = [\"serpapi\"]\n",
        "tools = load_tools(tool_names)\n",
        "agent = initialize_agent(tools, llm, agent=\"zero-shot-react-description\", verbose=True)\n"
      ],
      "metadata": {
        "id": "36HbL6rhVMT1"
      },
      "execution_count": null,
      "outputs": []
    },
    {
      "cell_type": "code",
      "source": [
        "agent.run(\"What is LangChain?\")"
      ],
      "metadata": {
        "colab": {
          "base_uri": "https://localhost:8080/",
          "height": 472
        },
        "id": "BCOfXmbbWJRK",
        "outputId": "db4006ba-5b90-488e-896c-a0756bf0cfbe"
      },
      "execution_count": null,
      "outputs": [
        {
          "output_type": "stream",
          "name": "stdout",
          "text": [
            "\n",
            "\n",
            "\u001b[1m> Entering new AgentExecutor chain...\u001b[0m\n",
            "\u001b[32;1m\u001b[1;3m I should search for information about LangChain\n",
            "Action: Search\n",
            "Action Input: LangChain\u001b[0m\n",
            "Observation: \u001b[36;1m\u001b[1;3m[\"LangChain is a framework designed to simplify the creation of applications using large language models. As a language model integration framework, LangChain's use-cases largely overlap with those of language models in general, including document analysis and summarization, chatbots, and code analysis.\", 'LangChain kgmid: /g/11kjpl7_60.', 'LangChain initial_release_date: October 2022.', 'LangChain developer_s: Harrison Chase.', 'LangChain license: MIT License.', 'LangChain repository: github.com/langchain-ai/langchain.', 'LangChain stable_release: 0.1.8 / 19 February 2024; 15 days ago.', 'LangChain written_in: Python and JavaScript.', 'From startups to global enterprises, ambitious builders choose LangChain. Build. LangChain gives developers a framework to construct LLM‑powered apps easily.', 'LangChain is a framework for developing applications powered by language models. It enables applications that: Are context-aware: connect a language model ...', 'Memory refers to persisting state between calls of a chain/agent. LangChain provides a standard interface for memory, a collection of memory implementations, ...', 'LangChain is a framework designed to simplify the creation of applications using large language models (LLMs). As a language model integration framework, ...', 'LangChain provides AI developers with tools to connect language models with external data sources. It is open-source and supported by an active community.', 'LangChain is essentially a library of abstractions for Python and Javascript, representing common steps and concepts necessary to work with language models.']\u001b[0m\n",
            "Thought:\u001b[32;1m\u001b[1;3m I should read through the information and gather a better understanding of LangChain\n",
            "Action: Search\n",
            "Action Input: LangChain\u001b[0m\n",
            "Observation: \u001b[36;1m\u001b[1;3m[\"LangChain is a framework designed to simplify the creation of applications using large language models. As a language model integration framework, LangChain's use-cases largely overlap with those of language models in general, including document analysis and summarization, chatbots, and code analysis.\", 'LangChain kgmid: /g/11kjpl7_60.', 'LangChain initial_release_date: October 2022.', 'LangChain developer_s: Harrison Chase.', 'LangChain license: MIT License.', 'LangChain repository: github.com/langchain-ai/langchain.', 'LangChain stable_release: 0.1.8 / 19 February 2024; 15 days ago.', 'LangChain written_in: Python and JavaScript.', 'From startups to global enterprises, ambitious builders choose LangChain. Build. LangChain gives developers a framework to construct LLM‑powered apps easily.', 'LangChain is a framework for developing applications powered by language models. It enables applications that: Are context-aware: connect a language model ...', 'Memory refers to persisting state between calls of a chain/agent. LangChain provides a standard interface for memory, a collection of memory implementations, ...', 'LangChain is a framework designed to simplify the creation of applications using large language models (LLMs). As a language model integration framework, ...', 'LangChain provides AI developers with tools to connect language models with external data sources. It is open-source and supported by an active community.', 'LangChain is essentially a library of abstractions for Python and Javascript, representing common steps and concepts necessary to work with language models.']\u001b[0m\n",
            "Thought:\u001b[32;1m\u001b[1;3m I should also check for any reviews or feedback from users of LangChain\n",
            "Action: Search\n",
            "Action Input: LangChain reviews\u001b[0m\n",
            "Observation: \u001b[36;1m\u001b[1;3m[\"- There are critiques about Langchain's poor documentation, lack of customizability, and difficulty debugging. The rapid pace of updates is also seen as ...\", 'LangChain appears more efficient in comparison. It is lighter, more user-friendly, adaptable, and inclusive. So if your choosing to implement an ...', 'The problem with LangChain is that it makes simple things relatively complex, and with that unnecessary complexity creates a tribalism which ...', \"Issue you'd like to raise. Context: I'm trying to chat with my dataset as customer reviews from a restaurant.\", \"Within the loop, the classifier makes a prediction on the review text ( row['Review'] ), and the result is stored in a variable named result .\", 'Find helpful customer reviews and review ratings for Generative AI with LangChain: Build large language model (LLM) apps with Python, ChatGPT, ...', 'From my new Top 10 Snowflake Integrations with ChatGPT - 2024 Hands-On! video course on Udemy, to teach you how to design, configure and ...', \"LangChain is awesome. For people not sure what it's doing, large language models (LLMs) are very powerful but they're very general.\", 'Instead of building applications based on these frameworks, review the open source code for inspiration. Learn from the thought leaders at ...']\u001b[0m\n",
            "Thought:\u001b[32;1m\u001b[1;3m I should take note of any potential issues or concerns with LangChain\n",
            "Action: Search\n",
            "Action Input: LangChain issues\u001b[0m\n",
            "Observation: \u001b[36;1m\u001b[1;3m['Search code, repositories, users, issues, pull requests... · Provide feedback · Saved searches · Issues: langchain-ai/langchain.', 'The problem with LangChain is that it makes simple things relatively complex, and with that unnecessary complexity creates a tribalism which ...', \"Langchain don't support basic things, like splitting a list result in single items and processing those one by one, accumulating the results further down the ...\", 'It almost always fails with local models. The lack of recovery on json parsing failures makes it unusable. The whole app comes crashing down, ...', 'The Problems With Langchain · 1. Data Security: The ingestion and subsequent deletion of your documents and resources. · 2. Chat Security : If the ...', '1. Overly complex and unnecessary abstractions. LangChain has been criticized for having too many layers of abstraction, making it difficult to ...', '1. Prompts are way too complex now · 2. Responses Are Unstructured by Nature · 3. LLMs Have No Memory - but some applications might need them to ...', 'Building applications with LLMs through composability ⚡ - Issues · langchain-ai/langchain.', 'Hi,Currently using langchain 0.1.9, I am not able to integrate with zapier. With the API key I am able to list the zapier NLA actions but ...', 'The prompt in the LLMChain MUST include a variable called \"agent_scratchpad\" where the agent can put its intermediary work.) https://api.python.']\u001b[0m\n",
            "Thought:\u001b[32;1m\u001b[1;3m I now know the final answer\n",
            "Final Answer: LangChain is a framework designed to simplify the creation of applications using large language models. It has been criticized for its poor documentation, lack of customizability, and difficulty debugging, but is praised for its efficiency and user-friendliness. It is still in its early stages and has potential for improvement.\u001b[0m\n",
            "\n",
            "\u001b[1m> Finished chain.\u001b[0m\n"
          ]
        },
        {
          "output_type": "execute_result",
          "data": {
            "text/plain": [
              "'LangChain is a framework designed to simplify the creation of applications using large language models. It has been criticized for its poor documentation, lack of customizability, and difficulty debugging, but is praised for its efficiency and user-friendliness. It is still in its early stages and has potential for improvement.'"
            ],
            "application/vnd.google.colaboratory.intrinsic+json": {
              "type": "string"
            }
          },
          "metadata": {},
          "execution_count": 26
        }
      ]
    },
    {
      "cell_type": "code",
      "source": [
        "# Input should be a search query.\n",
        "agent.run(\"who is the ceo of Langchain?\")"
      ],
      "metadata": {
        "colab": {
          "base_uri": "https://localhost:8080/",
          "height": 316
        },
        "id": "t798ryKgWnmD",
        "outputId": "0a439e46-9361-43d0-97f1-18223f3ba039"
      },
      "execution_count": null,
      "outputs": [
        {
          "output_type": "stream",
          "name": "stdout",
          "text": [
            "\n",
            "\n",
            "\u001b[1m> Entering new AgentExecutor chain...\u001b[0m\n",
            "\u001b[32;1m\u001b[1;3m I should always think about what to do\n",
            "Action: Search\n",
            "Action Input: Langchain CEO\u001b[0m\n",
            "Observation: \u001b[36;1m\u001b[1;3mHarrison Chase\u001b[0m\n",
            "Thought:\u001b[32;1m\u001b[1;3m I should always think about what to do\n",
            "Action: Search\n",
            "Action Input: Harrison Chase\u001b[0m\n",
            "Observation: \u001b[36;1m\u001b[1;3m[\"Harrison Chase. Intern with the Sports Department at 7News•Former Intern on 98.5 The Sports Hub for the Felger and Mazz Show•Radio Show Monday's 5:00-6:00• ...\", 'Harrison Chase only cofounded LangChain in late 2022, but the company caught instant attention for enabling anyone to build apps powered by large language ...', 'Search code, repositories, users, issues, pull requests... · Provide feedback · Saved searches · Harrison Chase hwchase17 · Block or report hwchase17.', \"Harrison Chase was an eccentric millionaire whose primary hobby was botany. In its pursuit, he assembled the world's largest collection of plants and ...\", 'Harrison Chase, a Harvard graduate in statistics and computer science, co-founded LangChain to streamline the development of Language Model applications ...', 'Find Chase branch and ATM locations - Harrison. Get location hours, directions, and available banking services.', \"I'm Harrison Chase, CEO and cofounder of LangChain–an open-source framework and developer toolkit that helps developers get LLM applications ...\"]\u001b[0m\n",
            "Thought:\u001b[32;1m\u001b[1;3m I now know the final answer\n",
            "Final Answer: Harrison Chase is the CEO of Langchain.\u001b[0m\n",
            "\n",
            "\u001b[1m> Finished chain.\u001b[0m\n"
          ]
        },
        {
          "output_type": "execute_result",
          "data": {
            "text/plain": [
              "'Harrison Chase is the CEO of Langchain.'"
            ],
            "application/vnd.google.colaboratory.intrinsic+json": {
              "type": "string"
            }
          },
          "metadata": {},
          "execution_count": 27
        }
      ]
    },
    {
      "cell_type": "code",
      "source": [
        "agent.run(\"When did Langchain founded at which year?\")"
      ],
      "metadata": {
        "colab": {
          "base_uri": "https://localhost:8080/",
          "height": 365
        },
        "id": "-v0dfq3bX_fn",
        "outputId": "2e0f38cb-2fdd-44f5-fd4b-3d6a16ea8324"
      },
      "execution_count": null,
      "outputs": [
        {
          "output_type": "stream",
          "name": "stdout",
          "text": [
            "\n",
            "\n",
            "\u001b[1m> Entering new AgentExecutor chain...\u001b[0m\n",
            "\u001b[32;1m\u001b[1;3m I should always think about what to do\n",
            "Action: Search\n",
            "Action Input: Langchain founded\u001b[0m\n",
            "Observation: \u001b[36;1m\u001b[1;3mHistory. LangChain was launched in October 2022 as an open source project by Harrison Chase, while working at machine learning startup Robust Intelligence.\u001b[0m\n",
            "Thought:\u001b[32;1m\u001b[1;3m I should always think about what to do\n",
            "Action: Search\n",
            "Action Input: Langchain founded\u001b[0m\n",
            "Observation: \u001b[36;1m\u001b[1;3mHistory. LangChain was launched in October 2022 as an open source project by Harrison Chase, while working at machine learning startup Robust Intelligence.\u001b[0m\n",
            "Thought:\u001b[32;1m\u001b[1;3m I should always think about what to do\n",
            "Action: Search\n",
            "Action Input: Langchain founded\u001b[0m\n",
            "Observation: \u001b[36;1m\u001b[1;3mHistory. LangChain was launched in October 2022 as an open source project by Harrison Chase, while working at machine learning startup Robust Intelligence.\u001b[0m\n",
            "Thought:\u001b[32;1m\u001b[1;3m I now know the final answer\n",
            "Final Answer: LangChain was founded in October 2022.\u001b[0m\n",
            "\n",
            "\u001b[1m> Finished chain.\u001b[0m\n"
          ]
        },
        {
          "output_type": "execute_result",
          "data": {
            "text/plain": [
              "'LangChain was founded in October 2022.'"
            ],
            "application/vnd.google.colaboratory.intrinsic+json": {
              "type": "string"
            }
          },
          "metadata": {},
          "execution_count": 28
        }
      ]
    },
    {
      "cell_type": "code",
      "source": [
        "agent.run(\"Did langchain was acquired?\")"
      ],
      "metadata": {
        "colab": {
          "base_uri": "https://localhost:8080/",
          "height": 472
        },
        "id": "vzaWScPeX_cE",
        "outputId": "a629e2ac-916d-41f9-82fe-09ed7001158b"
      },
      "execution_count": null,
      "outputs": [
        {
          "output_type": "stream",
          "name": "stdout",
          "text": [
            "\n",
            "\n",
            "\u001b[1m> Entering new AgentExecutor chain...\u001b[0m\n",
            "\u001b[32;1m\u001b[1;3m I should search for news articles or press releases about langchain's acquisition.\n",
            "Action: Search\n",
            "Action Input: \"langchain acquisition\"\u001b[0m\n",
            "Observation: \u001b[36;1m\u001b[1;3m[\"The Langchain interface is quite easy to build atop any old LLM, and if you're just using OpenAI then OpenAI already distirbutes clients in a bunch of languages ...\", \"Today, we're thrilled to announce a collaboration between LangChain and Microsoft. LangChain helps developers build context-aware reasoning ...\", 'dbt Labs signs definitive agreement to acquire Transform ... Two exciting roles in GTM at LangChain are open - sales engineer & technical PMM.', 'langchain.retrievers.merger_retriever .MergerRetriever¶ ... Retriever that merges the results of multiple retrievers. Create a new model by parsing and validating ...', 'Exclusive: LangChain, the popular open source AI startup, has released its first paid product, LangSmith, today. CEO Harrison Chase tells me ...', 'A Benchmark investment in San Francisco-based LangChain—worth several million dollars at a valuation of at least $40 million, these people said— ...', 'Workflow in LangChain. Data Acquisition: Gather various types of data. Data Processing: Includes vectorization, model development, training, testing ...', \"LangChain and Microsoft have announced a strategic collaboration to enhance AI capabilities, integrating LangChain's advanced AI tools with ...\", 'Accredited investors are permitted to buy LangChain stock pre-IPO. Private market transactions can be complex and often involve company approvals, legal ...', 'The MergerRetriever class can be used to improve the accuracy of document retrieval in a number of ways. First, it can combine the results of multiple ...']\u001b[0m\n",
            "Thought:\u001b[32;1m\u001b[1;3m I should read through the articles and press releases to see if there is any mention of an acquisition.\n",
            "Action: Search\n",
            "Action Input: \"langchain acquisition news\"\u001b[0m\n",
            "Observation: \u001b[36;1m\u001b[1;3m[\"The Langchain interface is quite easy to build atop any old LLM, and if you're just using OpenAI then OpenAI already distirbutes clients in a bunch of languages ...\", 'LangChain secures $25 million in funding and unveils a platform to facilitate the full lifecycle of Large Language Model applications. LangChain ...', 'Benchmark has been in talks to lead a seed funding of LangChain, according to two people who were briefed about it. LangChain software helps ...', 'Today, LangChain, the startup facilitating the development of large language model (LLM) apps with its open-source framework, announced it has ...', 'Excited about this news from California as I depart for New York: Lightrock portfolio company Neo4j – together with partners Docker, Inc, ...', \"LangChain and Microsoft have announced a strategic collaboration to enhance AI capabilities, integrating LangChain's advanced AI tools with ...\", 'LOS ANGELES, Oct. 6, 2023 -- Docker, Inc. together with partners Neo4j, LangChain, and Ollama announced a new GenAI Stack designed to help ...', 'Excited to announce that Sequoia Capital has led the Series A in LangChain! Harrison Chase is not only insanely humble but also a true ...', 'Overall, LangChain and its competitors have raised over $111M in funding across 14 funding rounds involving 20 investors. There is 1 acquired ...', 'In an interview with Adrien Treuille, we discuss building data apps with LLMs and SQL, using LangChain, and why Snowflake loves Code Llama.']\u001b[0m\n",
            "Thought:\u001b[32;1m\u001b[1;3m I should look for any official statements or announcements from Langchain or the company that acquired them.\n",
            "Action: Search\n",
            "Action Input: \"langchain acquisition official statement\"\u001b[0m\n",
            "Observation: \u001b[36;1m\u001b[1;3m['The SEC filing is a financial statement or other formal document submitted to the U.S. Securities and Exchange Commission (SEC).', 'LangChain secures $25 million in funding and unveils a platform to facilitate the full lifecycle of Large Language Model applications. LangChain ...', 'As filed with the Securities and Exchange Commission on January 12, 2021. Registration No. 333-. UNITED STATES. SECURITIES AND EXCHANGE COMMISSION.', '... acquisition date. The purchase price allocation process requires management ... Statement. PART IV ITEM 15. EXHIBITS, FINANCIAL STATEMENT SCHEDULES 1 ...', 'LangChain: a framework designed for the development of applications that leverage language models. It enables the integration of large language ...', 'This notebook shows how to use an agent to compare two documents. The high level idea is we will create a question-answering chain for each document, and then ...', \"I also believe that LangChain's Agent framework is underappreciated as it was pretty ahead of its time until the official ChatGPT plugins were released. ( ...\", '184, House of Representatives passed the Wilmot Proviso, stipulating none acquired open slavery If successful Wil Provis would have effectively ...', \"My system is hosted on Vercel and I'm primarily aiming to acquire a streaming output. My objective was to utilize ConstitutionalChain alongside ...\", 'The information in this proxy statement/prospectus/information statement is not complete and may be changed. Gemphire may not sell its securities pursuant ...']\u001b[0m\n",
            "Thought:\u001b[32;1m\u001b[1;3m I should read through the official statements and filings to see if there is any mention of an acquisition.\n",
            "Action: Search\n",
            "Action Input: \"langchain acquisition official statement\"\u001b[0m\n",
            "Observation: \u001b[36;1m\u001b[1;3m['The SEC filing is a financial statement or other formal document submitted to the U.S. Securities and Exchange Commission (SEC).', 'LangChain secures $25 million in funding and unveils a platform to facilitate the full lifecycle of Large Language Model applications. LangChain ...', 'As filed with the Securities and Exchange Commission on January 12, 2021. Registration No. 333-. UNITED STATES. SECURITIES AND EXCHANGE COMMISSION.', '... acquisition date. The purchase price allocation process requires management ... Statement. PART IV ITEM 15. EXHIBITS, FINANCIAL STATEMENT SCHEDULES 1 ...', 'LangChain: a framework designed for the development of applications that leverage language models. It enables the integration of large language ...', 'This notebook shows how to use an agent to compare two documents. The high level idea is we will create a question-answering chain for each document, and then ...', \"I also believe that LangChain's Agent framework is underappreciated as it was pretty ahead of its time until the official ChatGPT plugins were released. ( ...\", '184, House of Representatives passed the Wilmot Proviso, stipulating none acquired open slavery If successful Wil Provis would have effectively ...', \"My system is hosted on Vercel and I'm primarily aiming to acquire a streaming output. My objective was to utilize ConstitutionalChain alongside ...\", 'The information in this proxy statement/prospectus/information statement is not complete and may be changed. Gemphire may not sell its securities pursuant ...']\u001b[0m\n",
            "Thought:\u001b[32;1m\u001b[1;3m I now know the final answer.\n",
            "Final Answer: It appears that Langchain has not been acquired at this time. There are no official statements or filings mentioning an acquisition, and the news articles and press releases only mention potential funding and collaborations.\u001b[0m\n",
            "\n",
            "\u001b[1m> Finished chain.\u001b[0m\n"
          ]
        },
        {
          "output_type": "execute_result",
          "data": {
            "text/plain": [
              "'It appears that Langchain has not been acquired at this time. There are no official statements or filings mentioning an acquisition, and the news articles and press releases only mention potential funding and collaborations.'"
            ],
            "application/vnd.google.colaboratory.intrinsic+json": {
              "type": "string"
            }
          },
          "metadata": {},
          "execution_count": 29
        }
      ]
    },
    {
      "cell_type": "code",
      "source": [
        "def search_for_answer(query, max_retries):\n",
        "    retry_count = 0\n",
        "    while retry_count < max_retries:\n",
        "        # Send query to the agent framework for searching\n",
        "        answer = agent.run(\"What is Langchain and llama Index?\")\n",
        "\n",
        "        if answer_is_found(answer):\n",
        "            return \"The answer is: \" + answer\n",
        "\n",
        "        retry_count += 1\n",
        "\n",
        "    return \"Sorry, I don't know the answer.\"\n",
        "\n",
        "def answer_is_found(answer):\n",
        "\n",
        "    return answer is not None and answer != \"\"\n",
        "\n",
        "# Example usage:\n",
        "query = \"Difference Between langchain and llama index\"\n",
        "max_retries = 3\n",
        "print(search_for_answer(query, max_retries))\n"
      ],
      "metadata": {
        "colab": {
          "base_uri": "https://localhost:8080/"
        },
        "id": "bg8uXGQbX_Yf",
        "outputId": "37366c43-540a-438d-f4c2-955eec9314a1"
      },
      "execution_count": null,
      "outputs": [
        {
          "output_type": "stream",
          "name": "stdout",
          "text": [
            "\n",
            "\n",
            "\u001b[1m> Entering new AgentExecutor chain...\u001b[0m\n",
            "\u001b[32;1m\u001b[1;3m I should search for these terms to learn more about them.\n",
            "Action: Search\n",
            "Action Input: Langchain and llama Index\u001b[0m\n",
            "Observation: \u001b[36;1m\u001b[1;3m['LlamaIndex: Ideal for building focused search experiences with minimal complexity. Langchain: Better suited for creating complex and interactive ...', 'In this comparison, LlamaIndex excels in data indexing and language model enhancement, while LangChain stands out for its versatility and ...', 'LlamaIndex allows you to use any data loader within the LlamaIndex core repo or in LlamaHub as an “on-demand” data query Tool within a LangChain agent. The Tool ...', 'Langchain allows you to leverage multiple instance of ChatGPT, provide them with memory, even multiple instance of llamaindex. Things you can do ...', 'LlamaIndex and LangChain are both innovative frameworks optimizing the utilization of Large Language Models (LLMs) in application ...', 'LlamaIndex and LangChain are two frameworks for building LLM applications. While LlamaIndex focuses on RAG use cases, LangChain seems more ...', 'Llama Index provides powerful node management, while Langchain offers language-specific sentence detection. Embedding. The embedding ...', 'LlamaIndex excels in speedy data retrieval and streamlined responses, which is ideal for applications demanding efficiency. Meanwhile, LangChain ...', 'On the other hand, LlamaIndex is specifically designed to create search and retrieval applications. It provides a simple interface for indexing ...']\u001b[0m\n",
            "Thought:\u001b[32;1m\u001b[1;3m I should read through the observations to understand the differences between Langchain and Llama Index.\n",
            "Action: Read\n",
            "Action Input: Observations\u001b[0m\n",
            "Observation: Read is not a valid tool, try one of [Search].\n",
            "Thought:\u001b[32;1m\u001b[1;3m I should use the search tool to find more information about Langchain and Llama Index.\n",
            "Action: Search\n",
            "Action Input: Langchain and Llama Index\u001b[0m\n",
            "Observation: \u001b[36;1m\u001b[1;3m['LlamaIndex: Ideal for building focused search experiences with minimal complexity. Langchain: Better suited for creating complex and interactive ...', 'In this comparison, LlamaIndex excels in data indexing and language model enhancement, while LangChain stands out for its versatility and ...', 'LlamaIndex allows you to use any data loader within the LlamaIndex core repo or in LlamaHub as an “on-demand” data query Tool within a LangChain agent. The Tool ...', 'Langchain allows you to leverage multiple instance of ChatGPT, provide them with memory, even multiple instance of llamaindex. Things you can do ...', 'LlamaIndex and LangChain are both innovative frameworks optimizing the utilization of Large Language Models (LLMs) in application ...', 'LlamaIndex and LangChain are two frameworks for building LLM applications. While LlamaIndex focuses on RAG use cases, LangChain seems more ...', 'Llama Index provides powerful node management, while Langchain offers language-specific sentence detection. Embedding. The embedding ...', 'LlamaIndex excels in speedy data retrieval and streamlined responses, which is ideal for applications demanding efficiency. Meanwhile, LangChain ...', 'On the other hand, LlamaIndex is specifically designed to create search and retrieval applications. It provides a simple interface for indexing ...']\u001b[0m\n",
            "Thought:\u001b[32;1m\u001b[1;3m I now know that Llama Index is better for building search experiences with minimal complexity, while Langchain is better for creating complex and interactive applications.\n",
            "Final Answer: Llama Index is better for building search experiences with minimal complexity, while Langchain is better for creating complex and interactive applications.\u001b[0m\n",
            "\n",
            "\u001b[1m> Finished chain.\u001b[0m\n",
            "The answer is: Llama Index is better for building search experiences with minimal complexity, while Langchain is better for creating complex and interactive applications.\n"
          ]
        }
      ]
    }
  ]
}